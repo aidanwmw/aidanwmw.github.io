{
 "cells": [
  {
   "cell_type": "code",
   "execution_count": 1,
   "metadata": {},
   "outputs": [
    {
     "ename": "IndentationError",
     "evalue": "unexpected indent (1470491512.py, line 2)",
     "output_type": "error",
     "traceback": [
      "\u001b[0;36m  Cell \u001b[0;32mIn[1], line 2\u001b[0;36m\u001b[0m\n\u001b[0;31m    (3)/(2*2) * (2/(1*1))**(3/2)* rhob**(-1) * T**(3/2) * np.exp(-mass_excess[0] / (T))/(2*np.pi)**1.5*(hbar*c)**3,\u001b[0m\n\u001b[0m    ^\u001b[0m\n\u001b[0;31mIndentationError\u001b[0m\u001b[0;31m:\u001b[0m unexpected indent\n"
     ]
    }
   ],
   "source": [
    "      #1. p + n --> D + γ\n",
    "        (3)/(2*2) * (2/(1*1))**(3/2)* rhob**(-1) * T**(3/2) * np.exp(-mass_excess[0] / (T))/(2*np.pi)**1.5*(hbar*c)**3,\n",
    "        #2. D + p --> He3 + γ\n",
    "        (2)/(3*2) * (3/(2*1))**(3/2)* rhob**(-1) * T**(3/2)* np.exp(-mass_excess[1] / (T))/ (2*np.pi)**1.5*(hbar*c)**3,\n",
    "        #3. D + D --> n + He3\n",
    "        (2*2)/(3*3) * ((1*3)/(2*2))**(3/2)* np.exp(-mass_excess[2]/(T)),\n",
    "        #4. D + D --> p + T\n",
    "        (2*2)/(3*3) * ((1*3)/(2*2))**(3/2)* np.exp(-mass_excess[3]/(T)),\n",
    "        #5. He3 + n --> p + T\n",
    "        (2*2)/(2*2) * ((1*3)/(1*3))**(3/2)* np.exp(-mass_excess[4] /(T)),\n",
    "        #6. T + D --> n + He4\n",
    "        (2*1)/(2*3) * ((1*4)/(3*2))**(3/2)* np.exp(-mass_excess[5]/(T)),\n",
    "        #7. He3 + D --> p + He4\n",
    "        (2*1)/(2*3) * ((1*4)/(3*2))**(3/2)* np.exp(-mass_excess[6]/(T)),\n",
    "        #8. He3 + He4 --> Be7 + γ\n",
    "        (4)/(2*1) * (7/(3*4))**(3/2)* rhob**(-1) * T**(3/2)* np.exp(-mass_excess[7]/(T))/ (2*np.pi)**1.5*(hbar*c)**3,\n",
    "        #9. T + He4 --> Li7 + γ\n",
    "        (4)/(2*1) * (7/(3*4))**(3/2)* rhob**(-1) * T**(3/2)* np.exp(-mass_excess[8]/(T))/ (2*np.pi)**1.5*(hbar*c)**3,\n",
    "        #10. Be7 + n --> p + Li7\n",
    "        (2*4)/(2*4) * ((1*7)/(1*7))**(3/2)* np.exp(-mass_excess[9]/(T)),\n",
    "        #11. Li7 + p --> He4 + He4 \n",
    "        (1*1)/(4*1) * ((4*4)/(1*7))**(3/2)* np.exp(-mass_excess[10]/(T))"
   ]
  },
  {
   "cell_type": "code",
   "execution_count": null,
   "metadata": {},
   "outputs": [],
   "source": []
  }
 ],
 "metadata": {
  "kernelspec": {
   "display_name": "Python 3",
   "language": "python",
   "name": "python3"
  },
  "language_info": {
   "codemirror_mode": {
    "name": "ipython",
    "version": 3
   },
   "file_extension": ".py",
   "mimetype": "text/x-python",
   "name": "python",
   "nbconvert_exporter": "python",
   "pygments_lexer": "ipython3",
   "version": "3.12.3"
  }
 },
 "nbformat": 4,
 "nbformat_minor": 2
}
