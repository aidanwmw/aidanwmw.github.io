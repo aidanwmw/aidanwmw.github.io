{
 "cells": [
  {
   "cell_type": "markdown",
   "metadata": {},
   "source": [
    "# Thermodynamics and Expansion, en bref\n",
    "\n",
    "\n",
    "In the beginning, the universe began to expand. It decided, for some reason or another, to decrease temperature in doing so. This, unfortunately, was the advent of the physical field known as *thermodynamics*. \n",
    "\n",
    "\n",
    "\n",
    "\n",
    "\n",
    "If we think of BBN as a house, thermodynamics is the foundation. Despite its... lackluster reputation, thermodynamics motivates and governs all of nucleosynthesis at every step of the way. We therefore will begin with a brief discussion on the thermodynamics of the early universe. We will build BBN from the ground up.\n",
    "\n",
    "1. The expansion of the universe\n",
    "2. Neutrino decoupling\n",
    "\n",
    "Both of these principles can be expressed by using the Friedmann equations. \n",
    "\n",
    "\n",
    "The Friedmann equations express the expansion of the universe by relating the derivative of the rate of expansion (scale factor) to itself. In doing so, we can recover time and teperature with ample modification of the equations. \n",
    "\n",
    "\n",
    "```{math}\n",
    ":label: friedmann\n",
    "\\frac{\\ddot{a}}{a} = -\\frac{4\\pi G}{3} \\left(\\rho + \\frac{3p}{c^2}\\right)\n",
    "```\n",
    "\n",
    "see the expansion eq {eq}`friedmann`\n"
   ]
  },
  {
   "cell_type": "markdown",
   "metadata": {},
   "source": []
  }
 ],
 "metadata": {
  "kernelspec": {
   "display_name": "Python 3.10.5 64-bit",
   "language": "python",
   "name": "python3"
  },
  "language_info": {
   "name": "python",
   "version": "3.10.5"
  },
  "orig_nbformat": 4,
  "vscode": {
   "interpreter": {
    "hash": "8950b3d69db4d532b7143b51f6a4ce59f55b3744c355204e706abd3138917a3e"
   }
  }
 },
 "nbformat": 4,
 "nbformat_minor": 2
}
